{
 "cells": [
  {
   "cell_type": "code",
   "execution_count": 5,
   "id": "5db3ed14",
   "metadata": {},
   "outputs": [
    {
     "ename": "SyntaxError",
     "evalue": "invalid syntax (1354448311.py, line 54)",
     "output_type": "error",
     "traceback": [
      "\u001b[0;36m  Cell \u001b[0;32mIn[5], line 54\u001b[0;36m\u001b[0m\n\u001b[0;31m    x_train, x_test, y_train, y_test = #todo\u001b[0m\n\u001b[0m                                       ^\u001b[0m\n\u001b[0;31mSyntaxError\u001b[0m\u001b[0;31m:\u001b[0m invalid syntax\n"
     ]
    }
   ],
   "source": [
    "# src/model_training.py\n",
    "\n",
    "import pandas as pd\n",
    "from sklearn.model_selection import train_test_split\n",
    "from sklearn.ensemble import RandomForestClassifier\n",
    "#from xgboost import XGBClassifier\n",
    "from sklearn.metrics import accuracy_score, f1_score\n",
    "\n",
    "def load_processed_data(filepath):\n",
    "    \"\"\"\n",
    "    Load the processed dataset into a pandas DataFrame.\n",
    "    \"\"\"\n",
    "    df = pd.read_csv(filepath)\n",
    "    return df\n",
    "\n",
    "def define_features_target(df):\n",
    "    \"\"\"\n",
    "    Define input features and target variable.\n",
    "    \"\"\"\n",
    "    x = df.drop('Class',axis=1)#todo: get the features\n",
    "    y = df['Class']#todo : get the target variable\n",
    "    return x, y\n",
    "\n",
    "def train_model(x_train, y_train):\n",
    "    \"\"\"\n",
    "    Train a Random Forest Classifier.\n",
    "    \"\"\"\n",
    "    model = RandomForestClassifier(n_estimators=100, random_state=42)\n",
    "    model.fit(x_train,y_train)\n",
    "    #todo: fit training data into the model\n",
    "    return model\n",
    "\n",
    "def evaluate_model(model, x_test, y_test):\n",
    "    \"\"\"\n",
    "    Evaluate the model using Accuracy and F1 Score.\n",
    "    \"\"\"\n",
    "    y_pred = model.predict(x_test) #todo: \n",
    "    accuracy = accuracy_score(y_test, y_pred)\n",
    "    f1 = f1_score(y_test, y_pred)\n",
    "    print(f\"Accuracy: {accuracy:.4f}\")\n",
    "    print(f\"F1 Score: {f1:.4f}\")\n",
    "    return accuracy, f1\n",
    "\n",
    "def main():\n",
    "    # Load processed data\n",
    "    df = load_processed_data(\"file path\") # for file path , right click on bank_churn.csv and copy the path\n",
    "\n",
    "    \n",
    "    # Define features and target\n",
    "    x, y = define_features_target(df)\n",
    "    \n",
    "    # Split into training and testing sets\n",
    "    \n",
    "    x_train, x_test, y_train, y_test = #todo\n",
    "    \n",
    "    # Train model\n",
    "    model = train_model(x_train, y_train)\n",
    "    \n",
    "    # Evaluate model\n",
    "    evaluate_model(model, x_test, y_test)\n",
    "\n",
    "if __name__ == \"__main__\":\n",
    "    main()\n"
   ]
  }
 ],
 "metadata": {
  "kernelspec": {
   "display_name": ".venv",
   "language": "python",
   "name": "python3"
  },
  "language_info": {
   "codemirror_mode": {
    "name": "ipython",
    "version": 3
   },
   "file_extension": ".py",
   "mimetype": "text/x-python",
   "name": "python",
   "nbconvert_exporter": "python",
   "pygments_lexer": "ipython3",
   "version": "3.12.1"
  }
 },
 "nbformat": 4,
 "nbformat_minor": 5
}
